{
 "cells": [
  {
   "cell_type": "markdown",
   "id": "c9c53235",
   "metadata": {},
   "source": [
    "# WEAK SCALING"
   ]
  },
  {
   "cell_type": "code",
   "execution_count": 1,
   "id": "977b91d9",
   "metadata": {},
   "outputs": [],
   "source": [
    "from pyspark.sql import SparkSession\n",
    "import time\n",
    "import matplotlib.pyplot as plt\n",
    "from datetime import datetime\n",
    "import string\n",
    "import json\n",
    "import re"
   ]
  },
  {
   "cell_type": "markdown",
   "id": "d6c96373",
   "metadata": {},
   "source": [
    "### Wrapper For Strong Scalability Testing"
   ]
  },
  {
   "cell_type": "code",
   "execution_count": 2,
   "id": "1b4d9e13",
   "metadata": {},
   "outputs": [],
   "source": [
    "def unix_timestamp_converter(input_number):\n",
    "    \"\"\"\n",
    "        Converts 1325376033 into 2012-12-21\n",
    "    \"\"\"\n",
    "    return datetime.utcfromtimestamp(int(input_number)).strftime('%Y-%m-%d')\n",
    "\n",
    "\n",
    "def timebody_mapper(json_object):\n",
    "    \"\"\"\n",
    "        Converts JSON into a tuple of time and comment body\n",
    "    \"\"\"\n",
    "    date_str = unix_timestamp_converter(json_object[\"created_utc\"])\n",
    "    body = json_object[\"body\"]\n",
    "    return (date_str, body)\n",
    "\n",
    "\n",
    "def punctuation_remover(input_tuple):\n",
    "    date = input_tuple[0]\n",
    "    new_body = re.sub(f\"[{string.punctuation}]+\", \" \", input_tuple[1])\n",
    "    return (date, new_body.lower())\n",
    "\n",
    "\n",
    "def sentence_filter(input_tuple):\n",
    "    \"\"\"\n",
    "        Remove records that do not contain any important words\n",
    "    \"\"\"\n",
    "    important_words = [\"btc\", \"bitcoin\", \"cryptocurrency\", \"crypto\"]\n",
    "    return any([word in input_tuple[1] for word in important_words])"
   ]
  },
  {
   "cell_type": "code",
   "execution_count": 3,
   "id": "27aff2b3",
   "metadata": {},
   "outputs": [],
   "source": [
    "def WeakScaling(num_cores):\n",
    "    spark_session = SparkSession.builder\\\n",
    "        .master(\"spark://192.168.2.133:7077\")\\\n",
    "        .appName(f\"Group8_weak_scaling_{num_cores}_core\")\\\n",
    "        .config(\"spark.executor.memory\", \"2500m\")\\\n",
    "        .config(\"spark.cores.max\", num_cores)\\\n",
    "        .getOrCreate()\n",
    "    \n",
    "    spark_context = spark_session.sparkContext\n",
    "    \n",
    "    # Import data\n",
    "    rdd = spark_context.textFile(\"hdfs://192.168.2.133:9000/user/root/reddit_data/RC_2012-01\")\n",
    "\n",
    "    # Sample ratio (%)\n",
    "    # Changes depending on number of cores used s.t. workload is constant\n",
    "    ratio = num_cores / 8\n",
    "    comments_sampled = rdd.sample(False, ratio, 81)\n",
    "\n",
    "    # Perform an action in order for dataset to really be imported\n",
    "    # Otherwise the importing will be performed in the next data\n",
    "    # processing part where the execution time is measured\n",
    "    # (which is not desired)\n",
    "    print(comments_sampled.count())\n",
    "    \n",
    "    start_time = time.time()\n",
    "    ###########################\n",
    "\n",
    "    # Map the data to json object\n",
    "    comments_json = comments_sampled.map(json.loads)\n",
    "\n",
    "    # Remove everything except Date and Body\n",
    "    timebody_pairs = comments_json.map(timebody_mapper)\n",
    "    \n",
    "    # Replace punctauation with sapce\n",
    "    punctuation_removed = timebody_pairs.map(punctuation_remover)\n",
    "\n",
    "    # Tokenize\n",
    "    tokenized_rdd = punctuation_removed.map(lambda x: (x[0], x[1].split()))\n",
    "\n",
    "    # Remove sentences that don't contain any of the given words\n",
    "    filtered_rdd = tokenized_rdd.filter(sentence_filter)\n",
    "\n",
    "    # Aggregate by day\n",
    "    daily_comment_counts = filtered_rdd.map(lambda x: (x[0], 1)).reduceByKey(lambda a, b: a + b)\n",
    "    \n",
    "    # Just to make the RDD be evaluated\n",
    "    daily_comment_counts.count()\n",
    "    ###########################\n",
    "    \n",
    "    elapsed = time.time() - start_time\n",
    "    print(f\"Execution time: {elapsed}\")\n",
    "    \n",
    "    spark_session.stop()\n",
    "    \n",
    "    return elapsed"
   ]
  },
  {
   "cell_type": "markdown",
   "id": "f8dd8816",
   "metadata": {},
   "source": [
    "### Weak Scaling 1 Core (1 Node and 12.5% of data used)"
   ]
  },
  {
   "cell_type": "code",
   "execution_count": 4,
   "id": "9ce3611a",
   "metadata": {},
   "outputs": [
    {
     "name": "stderr",
     "output_type": "stream",
     "text": [
      "Setting default log level to \"WARN\".\n",
      "To adjust logging level use sc.setLogLevel(newLevel). For SparkR, use setLogLevel(newLevel).\n"
     ]
    },
    {
     "name": "stdout",
     "output_type": "stream",
     "text": [
      "23/03/24 15:09:05 WARN NativeCodeLoader: Unable to load native-hadoop library for your platform... using builtin-java classes where applicable\n",
      "23/03/24 15:09:06 WARN Utils: Service 'SparkUI' could not bind on port 4040. Attempting port 4041.\n"
     ]
    },
    {
     "name": "stderr",
     "output_type": "stream",
     "text": [
      "                                                                                \r"
     ]
    },
    {
     "name": "stdout",
     "output_type": "stream",
     "text": [
      "2042955\n"
     ]
    },
    {
     "name": "stderr",
     "output_type": "stream",
     "text": [
      "                                                                                \r"
     ]
    },
    {
     "name": "stdout",
     "output_type": "stream",
     "text": [
      "Execution time: 92.08197212219238\n"
     ]
    }
   ],
   "source": [
    "core_1_time = WeakScaling(1)"
   ]
  },
  {
   "cell_type": "markdown",
   "id": "c1f16160",
   "metadata": {},
   "source": [
    "### Weak Scaling 2 Core (2 Nodes and 25% of data used)"
   ]
  },
  {
   "cell_type": "code",
   "execution_count": 5,
   "id": "6ea4cc9d",
   "metadata": {},
   "outputs": [
    {
     "name": "stdout",
     "output_type": "stream",
     "text": [
      "23/03/24 15:11:49 WARN Utils: Service 'SparkUI' could not bind on port 4040. Attempting port 4041.\n"
     ]
    },
    {
     "name": "stderr",
     "output_type": "stream",
     "text": [
      "                                                                                \r"
     ]
    },
    {
     "name": "stdout",
     "output_type": "stream",
     "text": [
      "4084786\n"
     ]
    },
    {
     "name": "stderr",
     "output_type": "stream",
     "text": [
      "                                                                                \r"
     ]
    },
    {
     "name": "stdout",
     "output_type": "stream",
     "text": [
      "Execution time: 84.16361784934998\n"
     ]
    }
   ],
   "source": [
    "core_2_time = WeakScaling(2)"
   ]
  },
  {
   "cell_type": "markdown",
   "id": "bbb5fa5e",
   "metadata": {},
   "source": [
    "### Weak Scaling 4 Core (4 Nodes and 50% of data used)"
   ]
  },
  {
   "cell_type": "code",
   "execution_count": 6,
   "id": "6f4c32bb",
   "metadata": {},
   "outputs": [
    {
     "name": "stdout",
     "output_type": "stream",
     "text": [
      "23/03/24 15:14:05 WARN Utils: Service 'SparkUI' could not bind on port 4040. Attempting port 4041.\n"
     ]
    },
    {
     "name": "stderr",
     "output_type": "stream",
     "text": [
      "                                                                                \r"
     ]
    },
    {
     "name": "stdout",
     "output_type": "stream",
     "text": [
      "8171704\n"
     ]
    },
    {
     "name": "stderr",
     "output_type": "stream",
     "text": [
      "                                                                                \r"
     ]
    },
    {
     "name": "stdout",
     "output_type": "stream",
     "text": [
      "Execution time: 87.64167213439941\n"
     ]
    }
   ],
   "source": [
    "core_4_time = WeakScaling(4)"
   ]
  },
  {
   "cell_type": "markdown",
   "id": "960c5540",
   "metadata": {},
   "source": [
    "### Weak Scaling 8 Core (4 Nodes and 100% of data used)"
   ]
  },
  {
   "cell_type": "code",
   "execution_count": 7,
   "id": "14afcbb9",
   "metadata": {},
   "outputs": [
    {
     "name": "stdout",
     "output_type": "stream",
     "text": [
      "23/03/24 15:16:07 WARN Utils: Service 'SparkUI' could not bind on port 4040. Attempting port 4041.\n"
     ]
    },
    {
     "name": "stderr",
     "output_type": "stream",
     "text": [
      "                                                                                \r"
     ]
    },
    {
     "name": "stdout",
     "output_type": "stream",
     "text": [
      "16350205\n"
     ]
    },
    {
     "name": "stderr",
     "output_type": "stream",
     "text": [
      "                                                                                \r"
     ]
    },
    {
     "name": "stdout",
     "output_type": "stream",
     "text": [
      "Execution time: 92.47353148460388\n"
     ]
    }
   ],
   "source": [
    "core_8_time = WeakScaling(8)"
   ]
  },
  {
   "cell_type": "markdown",
   "id": "39644d0c",
   "metadata": {},
   "source": [
    "### PLOT WEAK SCALING (EFFICIENCY) GRAPH"
   ]
  },
  {
   "cell_type": "code",
   "execution_count": 10,
   "id": "9391b36f",
   "metadata": {},
   "outputs": [
    {
     "data": {
      "image/png": "[encoded data removed]",
      "text/plain": [
       "<Figure size 640x480 with 1 Axes>"
      ]
     },
     "metadata": {},
     "output_type": "display_data"
    }
   ],
   "source": [
    "times = [core_1_time, core_2_time, core_4_time, core_8_time]\n",
    "cores = [1, 2, 4, 8]\n",
    "\n",
    "efficiency = [0] * 4\n",
    "\n",
    "for i in range(len(times)):\n",
    "    efficiency[i] = times[0]/times[i]\n",
    "\n",
    "plt.plot(cores, efficiency, \"--o\")\n",
    "plt.xlabel(\"Number of cores\")\n",
    "plt.ylabel(\"Efficiency\")\n",
    "plt.title(\"Efficiency Relative to One-Core Performance\")\n",
    "plt.grid()\n",
    "plt.show()"
   ]
  },
  {
   "cell_type": "code",
   "execution_count": null,
   "id": "d11f05f3",
   "metadata": {},
   "outputs": [],
   "source": []
  }
 ],
 "metadata": {
  "kernelspec": {
   "display_name": "Python 3 (ipykernel)",
   "language": "python",
   "name": "python3"
  },
  "language_info": {
   "codemirror_mode": {
    "name": "ipython",
    "version": 3
   },
   "file_extension": ".py",
   "mimetype": "text/x-python",
   "name": "python",
   "nbconvert_exporter": "python",
   "pygments_lexer": "ipython3",
   "version": "3.10.6"
  }
 },
 "nbformat": 4,
 "nbformat_minor": 5
}
