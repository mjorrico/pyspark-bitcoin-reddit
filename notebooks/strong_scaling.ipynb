{
 "cells": [
  {
   "cell_type": "markdown",
   "id": "08c3949b",
   "metadata": {},
   "source": [
    "# STRONG SCALING"
   ]
  },
  {
   "cell_type": "code",
   "execution_count": 1,
   "id": "87578b4f",
   "metadata": {},
   "outputs": [],
   "source": [
    "from pyspark.sql import SparkSession\n",
    "import time\n",
    "import matplotlib.pyplot as plt\n",
    "from datetime import datetime\n",
    "import string\n",
    "import json\n",
    "import re"
   ]
  },
  {
   "cell_type": "markdown",
   "id": "17bac6b2",
   "metadata": {},
   "source": [
    "### Functions for Data Analysis"
   ]
  },
  {
   "cell_type": "code",
   "execution_count": 2,
   "id": "c7e88d16",
   "metadata": {},
   "outputs": [],
   "source": [
    "def unix_timestamp_converter(input_number):\n",
    "    \"\"\"\n",
    "        Converts 1325376033 into 2012-12-21\n",
    "    \"\"\"\n",
    "    return datetime.utcfromtimestamp(int(input_number)).strftime('%Y-%m-%d')\n",
    "\n",
    "\n",
    "def timebody_mapper(json_object):\n",
    "    \"\"\"\n",
    "        Converts JSON into a tuple of time and comment body\n",
    "    \"\"\"\n",
    "    date_str = unix_timestamp_converter(json_object[\"created_utc\"])\n",
    "    body = json_object[\"body\"]\n",
    "    return (date_str, body)\n",
    "\n",
    "\n",
    "def punctuation_remover(input_tuple):\n",
    "    date = input_tuple[0]\n",
    "    new_body = re.sub(f\"[{string.punctuation}]+\", \" \", input_tuple[1])\n",
    "    return (date, new_body.lower())\n",
    "\n",
    "\n",
    "def sentence_filter(input_tuple):\n",
    "    \"\"\"\n",
    "        Remove records that do not contain any important words\n",
    "    \"\"\"\n",
    "    important_words = [\"btc\", \"bitcoin\", \"cryptocurrency\", \"crypto\"]\n",
    "    return any([word in input_tuple[1] for word in important_words])"
   ]
  },
  {
   "cell_type": "markdown",
   "id": "12251c12",
   "metadata": {},
   "source": [
    "### Wrapper For Strong Scalability Testing"
   ]
  },
  {
   "cell_type": "code",
   "execution_count": 3,
   "id": "72281c4a",
   "metadata": {},
   "outputs": [],
   "source": [
    "def StrongScaling(num_cores):\n",
    "    spark_session = SparkSession.builder\\\n",
    "        .master(\"spark://192.168.2.133:7077\")\\\n",
    "        .appName(f\"Group8_strong_scaling_{num_cores}_core\")\\\n",
    "        .config(\"spark.executor.memory\", \"2500m\")\\\n",
    "        .config(\"spark.cores.max\", num_cores)\\\n",
    "        .getOrCreate()\n",
    "    \n",
    "    spark_context = spark_session.sparkContext\n",
    "    \n",
    "    # Import data\n",
    "    rdd = spark_context.textFile(\"hdfs://192.168.2.133:9000/user/root/reddit_data/RC_2012-01\")\n",
    "\n",
    "    # Sample ratio (%) (always 1 for strong scaling) \n",
    "    ratio = 1\n",
    "    comments_sampled = rdd.sample(False, ratio, 81)\n",
    "\n",
    "    # Perform an action in order for dataset to really be imported\n",
    "    # Otherwise the importing will be performed in the next data\n",
    "    # processing part where the execution time is measured\n",
    "    # (which is not desired)\n",
    "    print(comments_sampled.count())\n",
    "    \n",
    "    start_time = time.time()\n",
    "    ###########################\n",
    "\n",
    "    # Map the data to json object\n",
    "    comments_json = comments_sampled.map(json.loads)\n",
    "\n",
    "    # Remove everything except Date and Body\n",
    "    timebody_pairs = comments_json.map(timebody_mapper)\n",
    "    \n",
    "    # Replace punctauation with sapce\n",
    "    punctuation_removed = timebody_pairs.map(punctuation_remover)\n",
    "\n",
    "    # Tokenize\n",
    "    tokenized_rdd = punctuation_removed.map(lambda x: (x[0], x[1].split()))\n",
    "\n",
    "    # Remove sentences that don't contain any of the given words\n",
    "    filtered_rdd = tokenized_rdd.filter(sentence_filter)\n",
    "\n",
    "    # Aggregate by day\n",
    "    daily_comment_counts = filtered_rdd.map(lambda x: (x[0], 1)).reduceByKey(lambda a, b: a + b)\n",
    "    \n",
    "    # Just to make the RDD be evaluated\n",
    "    daily_comment_counts.count()\n",
    "    ###########################\n",
    "    \n",
    "    elapsed = time.time() - start_time\n",
    "    print(f\"Execution time: {elapsed}\")\n",
    "    \n",
    "    spark_session.stop()\n",
    "    \n",
    "    return elapsed"
   ]
  },
  {
   "cell_type": "markdown",
   "id": "b42eb23d",
   "metadata": {},
   "source": [
    "### Strong Scaling 1 Core (1 Node)"
   ]
  },
  {
   "cell_type": "code",
   "execution_count": 4,
   "id": "a0fca7b4",
   "metadata": {},
   "outputs": [
    {
     "name": "stderr",
     "output_type": "stream",
     "text": [
      "Setting default log level to \"WARN\".\n",
      "To adjust logging level use sc.setLogLevel(newLevel). For SparkR, use setLogLevel(newLevel).\n"
     ]
    },
    {
     "name": "stdout",
     "output_type": "stream",
     "text": [
      "23/03/24 15:23:35 WARN NativeCodeLoader: Unable to load native-hadoop library for your platform... using builtin-java classes where applicable\n",
      "23/03/24 15:23:36 WARN Utils: Service 'SparkUI' could not bind on port 4040. Attempting port 4041.\n"
     ]
    },
    {
     "name": "stderr",
     "output_type": "stream",
     "text": [
      "                                                                                \r"
     ]
    },
    {
     "name": "stdout",
     "output_type": "stream",
     "text": [
      "16350205\n"
     ]
    },
    {
     "name": "stderr",
     "output_type": "stream",
     "text": [
      "                                                                                \r"
     ]
    },
    {
     "name": "stdout",
     "output_type": "stream",
     "text": [
      "Execution time: 356.8383252620697\n"
     ]
    }
   ],
   "source": [
    "core_1_time = StrongScaling(1)"
   ]
  },
  {
   "cell_type": "markdown",
   "id": "2e7b1436",
   "metadata": {},
   "source": [
    "### Strong Scaling 2 Core (2 Nodes)"
   ]
  },
  {
   "cell_type": "code",
   "execution_count": 5,
   "id": "d0bd536a",
   "metadata": {},
   "outputs": [
    {
     "name": "stdout",
     "output_type": "stream",
     "text": [
      "23/03/24 15:30:59 WARN Utils: Service 'SparkUI' could not bind on port 4040. Attempting port 4041.\n"
     ]
    },
    {
     "name": "stderr",
     "output_type": "stream",
     "text": [
      "                                                                                \r"
     ]
    },
    {
     "name": "stdout",
     "output_type": "stream",
     "text": [
      "16350205\n"
     ]
    },
    {
     "name": "stderr",
     "output_type": "stream",
     "text": [
      "                                                                                \r"
     ]
    },
    {
     "name": "stdout",
     "output_type": "stream",
     "text": [
      "Execution time: 250.46563696861267\n"
     ]
    }
   ],
   "source": [
    "core_2_time = StrongScaling(2)"
   ]
  },
  {
   "cell_type": "markdown",
   "id": "bba3d5aa",
   "metadata": {},
   "source": [
    "### Strong Scaling 4 Core (4 Nodes)"
   ]
  },
  {
   "cell_type": "code",
   "execution_count": 6,
   "id": "7d986799",
   "metadata": {},
   "outputs": [
    {
     "name": "stdout",
     "output_type": "stream",
     "text": [
      "23/03/24 15:36:01 WARN Utils: Service 'SparkUI' could not bind on port 4040. Attempting port 4041.\n"
     ]
    },
    {
     "name": "stderr",
     "output_type": "stream",
     "text": [
      "                                                                                \r"
     ]
    },
    {
     "name": "stdout",
     "output_type": "stream",
     "text": [
      "16350205\n"
     ]
    },
    {
     "name": "stderr",
     "output_type": "stream",
     "text": [
      "                                                                                \r"
     ]
    },
    {
     "name": "stdout",
     "output_type": "stream",
     "text": [
      "Execution time: 157.01568007469177\n"
     ]
    }
   ],
   "source": [
    "core_4_time = StrongScaling(4)"
   ]
  },
  {
   "cell_type": "markdown",
   "id": "8e3d150b",
   "metadata": {},
   "source": [
    "### Strong Scaling 8 Core (4 Nodes)"
   ]
  },
  {
   "cell_type": "code",
   "execution_count": 7,
   "id": "a7918de9",
   "metadata": {},
   "outputs": [
    {
     "name": "stdout",
     "output_type": "stream",
     "text": [
      "23/03/24 15:39:12 WARN Utils: Service 'SparkUI' could not bind on port 4040. Attempting port 4041.\n"
     ]
    },
    {
     "name": "stderr",
     "output_type": "stream",
     "text": [
      "                                                                                \r"
     ]
    },
    {
     "name": "stdout",
     "output_type": "stream",
     "text": [
      "16350205\n"
     ]
    },
    {
     "name": "stderr",
     "output_type": "stream",
     "text": [
      "                                                                                \r"
     ]
    },
    {
     "name": "stdout",
     "output_type": "stream",
     "text": [
      "Execution time: 92.90206336975098\n"
     ]
    }
   ],
   "source": [
    "core_8_time = StrongScaling(8)"
   ]
  },
  {
   "cell_type": "markdown",
   "id": "5252c096",
   "metadata": {},
   "source": [
    "### PLOT STRONG SCALING (SPEEDUP) GRAPH"
   ]
  },
  {
   "cell_type": "code",
   "execution_count": 10,
   "id": "e1f253d8",
   "metadata": {},
   "outputs": [
    {
     "data": {
      "image/png": "[encoded data removed]",
      "text/plain": [
       "<Figure size 640x480 with 1 Axes>"
      ]
     },
     "metadata": {},
     "output_type": "display_data"
    }
   ],
   "source": [
    "# Strong scaling graph\n",
    "\n",
    "times = [core_1_time, core_2_time, core_4_time, core_8_time]\n",
    "cores = [1,2,4,8]\n",
    "speedup = [0] * 4\n",
    "\n",
    "for i in range(4):\n",
    "    speedup[i] = times[0]/times[i]\n",
    "\n",
    "plt.plot(cores, speedup, 'o--')\n",
    "plt.xlabel(\"Number of cores\")\n",
    "plt.ylabel(\"Speedup\")\n",
    "plt.title(\"Speedup Relative to One-Core Performance\")\n",
    "plt.grid()\n",
    "plt.show()"
   ]
  },
  {
   "cell_type": "code",
   "execution_count": null,
   "id": "eec14625",
   "metadata": {},
   "outputs": [],
   "source": []
  }
 ],
 "metadata": {
  "kernelspec": {
   "display_name": "Python 3 (ipykernel)",
   "language": "python",
   "name": "python3"
  },
  "language_info": {
   "codemirror_mode": {
    "name": "ipython",
    "version": 3
   },
   "file_extension": ".py",
   "mimetype": "text/x-python",
   "name": "python",
   "nbconvert_exporter": "python",
   "pygments_lexer": "ipython3",
   "version": "3.10.6"
  }
 },
 "nbformat": 4,
 "nbformat_minor": 5
}
